{
 "cells": [
  {
   "cell_type": "markdown",
   "id": "982cce07",
   "metadata": {},
   "source": [
    "# ID 5059 Coursework 1\n",
    "John Belcher-Heath (jbh6)"
   ]
  },
  {
   "cell_type": "markdown",
   "id": "f9f3c9e8",
   "metadata": {},
   "source": [
    "# Introduction\n",
    "\n",
    "The task is to predict the price of a car from a subset of attributes from the Kaggle dataset.\n",
    "\n",
    "I will complete the task following the ML checklist in the book, Hands-On Machine Learning with Scikit-Learn, Keras, and TensorFlow. which is:\n",
    "\n",
    "1. Frame the problem\n",
    "2. Get the data\n",
    "3. Explore the data\n",
    "4. Prepare the data\n",
    "5. Explore models\n",
    "6. Fine-tune models\n",
    "7. Present solution\n",
    "8. Launch/maintain\n",
    "\n",
    "1 has already been done; we want to predict price of a car using attributes available to us."
   ]
  },
  {
   "cell_type": "markdown",
   "id": "60086da9",
   "metadata": {},
   "source": [
    "# 2. Get the data"
   ]
  },
  {
   "cell_type": "markdown",
   "id": "64746763",
   "metadata": {},
   "source": [
    "In the section the data will be obtained and read into a pandas.dataframe to explore. Note one the medium datasets will be explored since all we are doing is getting to know the data. So one of the medium files can be assumed to give a relatively good representation of the overall dataset, whilst minimising the amount of data requiring to be manipulated."
   ]
  },
  {
   "cell_type": "code",
   "execution_count": null,
   "id": "288c4cca",
   "metadata": {},
   "outputs": [],
   "source": [
    "import sys\n",
    "!{sys.executable} -m pip install numpy pandas matplotlib scikit-learn | grep -v 'already satisfied'\n",
    "\n",
    "# Import libraries\n",
    "import pandas as pd\n",
    "import numpy as np\n",
    "import sklearn\n",
    "import os\n",
    "import glob\n",
    "from pathlib import Path"
   ]
  },
  {
   "cell_type": "code",
   "execution_count": null,
   "id": "cd73a215",
   "metadata": {},
   "outputs": [],
   "source": [
    "# folder_path: str = \"/cs/studres/ID5059/Coursework/Coursework-1/data/2_medium\" # uni\n",
    "folder_path : str = r\"/home/johnbh/personal_git/ID5059_coursework_1/data/2_medium\" # Desktop\n",
    "\n",
    "if not os.path.exists(folder_path):\n",
    "    raise FileNotFoundError\n",
    "os.chdir(folder_path)\n",
    "\n",
    "file_names : list = [i for i in glob.glob(\"*.{}\".format('csv'))]\n",
    "\n",
    "def read_car_data(filepath : str) -> pd.DataFrame:\n",
    "    \"\"\"\n",
    "    Reads a filepath and returns the dataframe\n",
    "    :param filepath: The location of the file to read\n",
    "    :return: returns the pandas dataframe\n",
    "    \"\"\"\n",
    "    return pd.read_csv(filepath, index_col = \"vin\")\n",
    "\n",
    "df = read_car_data(file_names[0]) # Read one of the medium files\n",
    "data_original_length : int = len(df.index)"
   ]
  },
  {
   "cell_type": "code",
   "execution_count": null,
   "id": "93be25d0",
   "metadata": {},
   "outputs": [],
   "source": [
    "# os.chdir(folder_path)\n",
    "# file_names : list = [i for i in glob.glob(\"*.{}\".format('csv'))]\n",
    "# df = pd.concat(map(read_car_data, file_names))\n"
   ]
  },
  {
   "cell_type": "markdown",
   "id": "42d5ccd2",
   "metadata": {},
   "source": [
    "# 3. Explore the data\n",
    "\n",
    "The data will now be inspected to explore what attributes are available to use. Additionally, with this output, attributes with large proportion of NAs can be identified and removed."
   ]
  },
  {
   "cell_type": "code",
   "execution_count": null,
   "id": "5eb85c98",
   "metadata": {
    "scrolled": true
   },
   "outputs": [],
   "source": [
    "df.info()"
   ]
  },
  {
   "cell_type": "markdown",
   "id": "afdb5e2c",
   "metadata": {},
   "source": [
    "Let's explore all the numerical attributes with an actual numerical meaning.(index or listing_id have no meaning numerically).\n",
    "\n",
    "Firstly though, let's drop all attributes from above which have less than 20% non-null values, since including these may negatively effect our model if a majority of entries do not have this attribute."
   ]
  },
  {
   "cell_type": "code",
   "execution_count": null,
   "id": "d3ddec30",
   "metadata": {},
   "outputs": [],
   "source": [
    "# Drop all attributes with less than 10% non-null values\n",
    "df = df.drop(columns=df.keys()[df.count() / len(df.index) < 0.2])"
   ]
  },
  {
   "cell_type": "markdown",
   "id": "b04827a7",
   "metadata": {},
   "source": [
    "Drop attributes with no numerical meaning for the next section"
   ]
  },
  {
   "cell_type": "code",
   "execution_count": null,
   "id": "5f2cf610",
   "metadata": {},
   "outputs": [],
   "source": [
    "import matplotlib.pyplot as mpl\n",
    "%matplotlib inline\n",
    "\n",
    "df_numerical = df.select_dtypes(include=[np.int64, np.float64]).drop(columns=['dealer_zip', 'listing_id', 'sp_id'])\n",
    "df_numerical.hist(figsize=(16,20), bins=30)\n",
    "mpl.show()"
   ]
  },
  {
   "cell_type": "markdown",
   "id": "d778a9db",
   "metadata": {},
   "source": [
    "Observations:\n",
    "- Both fuel economy attributes appear to be normally distributed with a slight skew\n",
    "- Majority of cars do not stay on the market for a long duration, mostly less than a couple of months. Some may be above a large amount so these may need to be removed to not skew data.\n",
    "- Engine displacement doesn't appear to have any obvious standard distribution\n",
    "- Horsepower appears to have a normal distribution around 200hp with a standard deviation of around 50hp\n",
    "- Lattitude is as expected all grouped together around 39 to 44 \n",
    "- longitutde is split into two peaks, most likely corresponding to central US and alaska\n",
    "- Milegae of most cars is grouped mostly around 0 and fewer cars with higher mileage, as would be expected\n",
    "- owner count has a modal of 1, again as to be expected\n",
    "- Most cars prices are group around the same order of magnitutde. Howeever some extremes are seen. A logarithmic transformation may need to be considered later.\n",
    "- Seller ratings appear to be skew negatively towards the higher end\n",
    "- Majority of cars are from the last 15 years\n",
    "\n",
    "Now let's examine the qualatitative data."
   ]
  },
  {
   "cell_type": "code",
   "execution_count": null,
   "id": "3525bdcb",
   "metadata": {},
   "outputs": [],
   "source": [
    "df_qualitative = df.select_dtypes(include=object)"
   ]
  },
  {
   "cell_type": "code",
   "execution_count": null,
   "id": "d6364ea5",
   "metadata": {
    "scrolled": false
   },
   "outputs": [],
   "source": [
    "df_qualitative.head(10)"
   ]
  },
  {
   "cell_type": "markdown",
   "id": "f339cac0",
   "metadata": {},
   "source": [
    "Firstly, it is easy to see that engine_cylinders and engine_type appear to be duplicate. Similarly so do wheel_system, wheel_system_display.\n",
    "\n",
    "Before dropping one of each of these the data will be further inspected to make sure that there's no discrepancy between the two in the wider data set (i.e. not just in the head)."
   ]
  },
  {
   "cell_type": "code",
   "execution_count": null,
   "id": "43e8b3b7",
   "metadata": {
    "scrolled": false
   },
   "outputs": [],
   "source": [
    "df_engine = df[df['engine_cylinders'] != df['engine_type']][['engine_cylinders', 'engine_type']].isna()\n",
    "print(df_engine.count() / len(df_engine))\n",
    "df = df.drop(columns='engine_cylinders')"
   ]
  },
  {
   "cell_type": "markdown",
   "id": "43e80067",
   "metadata": {},
   "source": [
    "So above tells us that all entries with attributes not idential are ones that are NaNs, so dropping one of these columns will no destroy any data.\n",
    "\n",
    "For the wheel_system and wheel_system_display this is slightly more difficult as the values will not neccessarily be the same."
   ]
  },
  {
   "cell_type": "code",
   "execution_count": null,
   "id": "35bc477a",
   "metadata": {
    "scrolled": false
   },
   "outputs": [],
   "source": [
    "df_wheel = df[['wheel_system', 'wheel_system_display']]\n",
    "print(df_wheel.count())"
   ]
  },
  {
   "cell_type": "markdown",
   "id": "ea86c5f3",
   "metadata": {},
   "source": [
    "The above implies that both attributes provide the same amount of information for the cars. Hence deciding which to drop is irrelevant. I will choose to drop the wheel_system_display since wheel system has a nice short appriviation."
   ]
  },
  {
   "cell_type": "code",
   "execution_count": null,
   "id": "20343320",
   "metadata": {},
   "outputs": [],
   "source": [
    "df = df.drop(columns='wheel_system_display')"
   ]
  },
  {
   "cell_type": "markdown",
   "id": "d3add77e",
   "metadata": {},
   "source": [
    "From the above we can also see that the transmission attribute appears to be a A or M, hence a binary indicator. This is further checked below"
   ]
  },
  {
   "cell_type": "code",
   "execution_count": null,
   "id": "06d12fa8",
   "metadata": {},
   "outputs": [],
   "source": [
    "df['transmission'].unique()"
   ]
  },
  {
   "cell_type": "code",
   "execution_count": null,
   "id": "816cdb16",
   "metadata": {},
   "outputs": [],
   "source": []
  },
  {
   "cell_type": "markdown",
   "id": "f030f794",
   "metadata": {},
   "source": [
    "# 4. Prepare the data"
   ]
  },
  {
   "cell_type": "markdown",
   "id": "746131ba",
   "metadata": {},
   "source": [
    "Inspecting this list and using our contextual knowledge of cars, as well as the info available on the [kaggle page](https://www.kaggle.com/datasets/ananaymital/us-used-cars-dataset). Certain attributes can be removed immediately, leaving ones that are believed to influence the price. Any attributes left will be further inspected before any models are used. \n",
    "\n",
    "Note: data types are now defined to make sure any further exploration is done correctly."
   ]
  },
  {
   "cell_type": "code",
   "execution_count": null,
   "id": "178102a1",
   "metadata": {},
   "outputs": [],
   "source": [
    "# Attributes belived to influence price\n",
    "desired_attributes : list = [\"body_type\", \"city\", \"daysonmarket\", \"dealer_zip\", \"engine_cylinders\", \"engine_displacement\",\n",
    "                             \"engine_type\", \"fleet\", \"frame_damaged\", \"franchise_dealer\", \"fuel_tank_volume\", \"has_accidents\", \"horsepower\",\n",
    "                            \"is_new\", \"listed_date\", \"make_name\", \"owner_count\", \"power\", \"price\",\n",
    "                             \"savings_amount\", \"seller_rating\", \"year\", \"torque\"\n",
    "                            ]\n",
    "    \n",
    "# REMOEVE ANY IRRELEVANT ONES\n",
    "# Define datatypes of attributes to make sure any exploration is good.\n",
    "data_types = {'vin' : str, 'back_legroom' : str, 'bed' : str, 'bed_height' : str,\n",
    "              'bed_length' : str, 'body_type' : str, 'cabin' : str, 'city' : str,\n",
    "              'city_fuel_economy' : np.float64, 'combine_fuel_economy' : np.float64,\n",
    "              'daysonmarket' : np.int32, 'dealer_zip' : np.int32, 'description' : str, \n",
    "              'engine_cylinders' : str, 'engine_displacement' : np.float64,\n",
    "              'engine_type' : str, 'exterior_color' : str, 'fleet' : bool, 'frame_damaged' : bool,\n",
    "              'franchise_dealer' : bool, 'franchise_make' : str, 'front_legroom' : str,\n",
    "              'fuel_tank_volume' : str, 'fuel_type' : str, 'has_accidents' : bool, 'height' : str,\n",
    "            'highway_fuel_economy' : np.float64, 'horsepower' : np.float64, 'interior_color' : str, 'isCab' : bool,\n",
    "            'is_certified' : bool, 'is_cpo' : bool, 'is_new' : bool, 'is_oemcpo' : bool, 'latitude' : np.float64, 'length' : str,\n",
    "            'listed_date' : str, 'listing_color' : str, 'listing_id' : np.int32, 'longitude' : np.float64,\n",
    "            'main_picture_url' : str, 'major_options' : str, 'make_name' : str, 'maximum_seating' : np.int32,\n",
    "            'mileage' : np.int32, 'model_name' : str, 'owner_count' : np.int32, 'power' : str, 'price' : np.float64, 'salvage' : bool,\n",
    "            'savings_amount' : np.int32 , 'seller_rating' : np.float64, 'sp_id' : np.int32, 'sp_name' : str, 'theft_title' : bool,\n",
    "            'torque' : str, 'transmission' : str, 'transmission_display' : str, 'trimId' : np.int32, 'trim_name' : str,\n",
    "            'vehicle_damage_category' : str, 'wheel_system' : str, 'wheel_system_display' : str,\n",
    "            'wheelbase' : str, 'width' : str, 'year' : np.int32}\n",
    "\n",
    "    \n",
    "df = df[df.columns.intersection(desired_attributes)].convert_dtypes(data_types).copy()\n",
    "df = df.reset_index(drop=True) # Let's also reset the index to stop using vin"
   ]
  },
  {
   "cell_type": "markdown",
   "id": "ba72859e",
   "metadata": {},
   "source": [
    "Next to check if the attributes chosen have NAs. Any attributes with entries that contain an NA will be shown below."
   ]
  },
  {
   "cell_type": "code",
   "execution_count": null,
   "id": "ebf292ae",
   "metadata": {},
   "outputs": [],
   "source": [
    "df.keys()[df.count() != len(df.index)]"
   ]
  },
  {
   "cell_type": "markdown",
   "id": "0ddac4a7",
   "metadata": {},
   "source": [
    "Clearly there is issues with some attributes. Let's first inspect the numerical attributes with NA issues."
   ]
  },
  {
   "cell_type": "code",
   "execution_count": null,
   "id": "4b7d0aa3",
   "metadata": {
    "scrolled": false
   },
   "outputs": [],
   "source": [
    "df[df.select_dtypes(include=np.int64).isnull().any(axis=1)].select_dtypes(include=np.int64).isnull().any()"
   ]
  },
  {
   "cell_type": "markdown",
   "id": "12237b04",
   "metadata": {},
   "source": [
    "So we have an issue with engine_displacement, horsepower and owner_count. Let's see how severe this issue is."
   ]
  },
  {
   "cell_type": "code",
   "execution_count": null,
   "id": "41307b84",
   "metadata": {},
   "outputs": [],
   "source": [
    "df[['engine_displacement', 'horsepower', 'owner_count']].count(), len(df)"
   ]
  },
  {
   "cell_type": "markdown",
   "id": "cb32bc8f",
   "metadata": {},
   "source": [
    "Clearly there is severe issues with 'owner_count'. Now this could be an important metric, however the 'mileage' attribute will likely be able to some what the similar information implicitly, but with likely more detail since it is a continuous not descrete attribute. Hence the owner_count will be ommitted."
   ]
  },
  {
   "cell_type": "code",
   "execution_count": null,
   "id": "9dce41c7",
   "metadata": {},
   "outputs": [],
   "source": [
    "df = df.drop(columns='owner_count')"
   ]
  },
  {
   "cell_type": "markdown",
   "id": "b28c4ad4",
   "metadata": {},
   "source": [
    "For the horsepower attribute after further inspection into the data, it can be seen that the horsepower attribute is actually contained within the power attribute(see example below)."
   ]
  },
  {
   "cell_type": "code",
   "execution_count": null,
   "id": "22219ab1",
   "metadata": {},
   "outputs": [],
   "source": [
    "df.loc[1, ['horsepower', 'power']]"
   ]
  },
  {
   "cell_type": "markdown",
   "id": "90f4fbae",
   "metadata": {},
   "source": [
    "Hence since we assign all the horspower values from the power column. \n",
    "\n",
    "There is also another useful attribute of RPM which could help to distinguish between performance cars with large horsepower and 4x4 with the same. First let's see if there is enough attributes from either horsepower and power for each entry to get a car's horsepower."
   ]
  },
  {
   "cell_type": "code",
   "execution_count": null,
   "id": "e87f695d",
   "metadata": {},
   "outputs": [],
   "source": [
    "df_no_hp = df[df['horsepower'].isna() & df['power'].isna()]"
   ]
  },
  {
   "cell_type": "code",
   "execution_count": null,
   "id": "bf061826",
   "metadata": {},
   "outputs": [],
   "source": [
    "df_no_hp.head(5), len(df_no_hp) / len(df)"
   ]
  },
  {
   "cell_type": "markdown",
   "id": "a87118ac",
   "metadata": {},
   "source": [
    "So from above we can see that only 5% have no power or horsepower attribute. For these remaining entries we will consider how many have engine size attributes."
   ]
  },
  {
   "cell_type": "code",
   "execution_count": null,
   "id": "d6a2618e",
   "metadata": {},
   "outputs": [],
   "source": [
    "df_no_hp_engine_size = df[df.engine_type.isna()]\n",
    "len(df_no_hp_engine_size) / len(df)"
   ]
  },
  {
   "cell_type": "markdown",
   "id": "21553600",
   "metadata": {},
   "source": [
    "Now there is only 2.9% of cars with neither horsepower, power or engine_type attribute. All these entries will simply take the overall average for horsepower.\n",
    "\n",
    "The horsepower for all cars will be assigned using the following:\n",
    "\n",
    "- If the car has horspower asigned pass\n",
    "- If the car has power but no horsepower, find horsepower from power\n",
    "- If the car has neither assign the horsepower as the average of a car for the given engine_type\n",
    "- If the car has none of these assign the overall average for horsepower"
   ]
  },
  {
   "cell_type": "code",
   "execution_count": null,
   "id": "fb72eb3d",
   "metadata": {},
   "outputs": [],
   "source": [
    "def get_power_data(s: str) -> (int, int):\n",
    "    \"\"\"\n",
    "    Returns the hp and RPM from the power string\n",
    "    attribute of a vehicle\n",
    "    \"\"\"\n",
    "    string_split: list = s.split(\" \")\n",
    "    return int(string_split[0]), int(string_split[3].replace(\",\", \"\"))"
   ]
  },
  {
   "cell_type": "code",
   "execution_count": null,
   "id": "d550aa36",
   "metadata": {},
   "outputs": [],
   "source": [
    "df['horsepower'], df['RPM'] = df['power'].apply(get_power_data)"
   ]
  },
  {
   "cell_type": "code",
   "execution_count": null,
   "id": "086d20f5",
   "metadata": {
    "scrolled": true
   },
   "outputs": [],
   "source": [
    "df.loc[:, (df.count() / len(df.index)) > 0.95]"
   ]
  },
  {
   "cell_type": "markdown",
   "id": "322f01d5",
   "metadata": {},
   "source": [
    "As most a large amount of the attributes are categorical or boolean, changing the remaining NAs to the average of the column would not make much sense. Furthermore, since the dataset is very large, removing NAs is unlikely to heavily impact the model. However to make sure the one type of car or manufactor is not being discrimanted against before they're removed the entries with NAs will be inspected."
   ]
  },
  {
   "cell_type": "code",
   "execution_count": null,
   "id": "097501ea",
   "metadata": {},
   "outputs": [],
   "source": [
    "car_makes_with_NA = df1[df1.isnull().any(axis=1)].make_name.unique()\n",
    "df_prepared = df1[~df1.isnull().any(axis=1)]\n",
    "car_makes_no_NA = df_prepared.make_name.unique()\n",
    "\n",
    "(set(car_makes_no_NA) and set(car_makes_with_NA)) == set(car_makes_with_NA)"
   ]
  },
  {
   "cell_type": "markdown",
   "id": "b408d079",
   "metadata": {},
   "source": [
    "This means all car makes are being represented still even when NA rows are removed.\n",
    "\n",
    "Now the data has been filtered, the exploration of relationships can begin. Note that only 4% of the entries have been removed."
   ]
  },
  {
   "cell_type": "code",
   "execution_count": null,
   "id": "7eae3369",
   "metadata": {},
   "outputs": [],
   "source": [
    "round(len(df_prepared.index) / data_original_length, 2)"
   ]
  },
  {
   "cell_type": "code",
   "execution_count": null,
   "id": "a670ccd7",
   "metadata": {},
   "outputs": [],
   "source": [
    "used_cars_prices = df_prepared[\"price\"].copy()\n",
    "used_cars_prices.head()"
   ]
  },
  {
   "cell_type": "code",
   "execution_count": null,
   "id": "dcd17e51",
   "metadata": {},
   "outputs": [],
   "source": [
    "from sklearn.preprocessing import OrdinalEncoder\n",
    "\n",
    "ordinal_encoder = OrdinalEncoder()\n"
   ]
  },
  {
   "cell_type": "code",
   "execution_count": null,
   "id": "86a62373",
   "metadata": {},
   "outputs": [],
   "source": []
  }
 ],
 "metadata": {
  "kernelspec": {
   "display_name": "Python 3 (ipykernel)",
   "language": "python",
   "name": "python3"
  },
  "language_info": {
   "codemirror_mode": {
    "name": "ipython",
    "version": 3
   },
   "file_extension": ".py",
   "mimetype": "text/x-python",
   "name": "python",
   "nbconvert_exporter": "python",
   "pygments_lexer": "ipython3",
   "version": "3.9.12"
  }
 },
 "nbformat": 4,
 "nbformat_minor": 5
}
