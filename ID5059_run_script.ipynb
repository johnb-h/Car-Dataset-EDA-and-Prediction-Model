{
 "cells": [
  {
   "cell_type": "markdown",
   "id": "982cce07",
   "metadata": {},
   "source": [
    "# ID 5059 Coursework 1\n",
    "John Belcher-Heath (jbh6)"
   ]
  },
  {
   "cell_type": "markdown",
   "id": "f9f3c9e8",
   "metadata": {},
   "source": [
    "# Introduction\n",
    "\n",
    "The task is to predict the price of a car from a subset of attributes from the Kaggle dataset.\n",
    "\n",
    "I will complete the task following the ML checklist in the book, Hands-On Machine Learning with Scikit-Learn, Keras, and TensorFlow. which is:\n",
    "\n",
    "1. Frame the problem\n",
    "2. Get the data\n",
    "3. Explore the data\n",
    "4. Prepare the data\n",
    "5. Explore models\n",
    "6. Fine-tune models\n",
    "7. Present solution\n",
    "8. Launch/maintain\n",
    "\n",
    "1 has already been done; we want to predict price of a car using attributes available to us."
   ]
  },
  {
   "cell_type": "markdown",
   "id": "60086da9",
   "metadata": {},
   "source": [
    "# 2. Get the data"
   ]
  },
  {
   "cell_type": "markdown",
   "id": "64746763",
   "metadata": {},
   "source": [
    "In the section the data will be obtained and read into a pandas.dataframe to explore. Note the smallest dataset will be explored since all we are doing is getting to know the data"
   ]
  },
  {
   "cell_type": "code",
   "execution_count": 57,
   "id": "288c4cca",
   "metadata": {},
   "outputs": [],
   "source": [
    "# Import libraries\n",
    "import pandas as pd\n",
    "import numpy as np\n",
    "import sklearn\n",
    "import os\n",
    "import glob\n",
    "from pathlib import Path"
   ]
  },
  {
   "cell_type": "code",
   "execution_count": 207,
   "id": "cd73a215",
   "metadata": {},
   "outputs": [],
   "source": [
    "# folder_path: str = Path(\"C:\\\\Users\\\\johnb\\\\Documents\\\\git\\\\ID5059\\\\coursework_1\\\\used_cars_data_small\") # Laptop\n",
    "folder_path : str = r\"/home/johnbh/personal_git/ID5059_coursework_1/used_cars_data_small\" # Desktop\n",
    "if not os.path.exists(folder_path):\n",
    "    raise FileNotFoundError\n",
    "os.chdir(folder_path)\n",
    "\n",
    "file_names : list = [i for i in glob.glob(\"*.{}\".format('csv'))]\n",
    "\n",
    "def read_car_data(filepath : str) -> pd.DataFrame:\n",
    "    \"\"\"\n",
    "    Reads a filepath and returns the dataframe\n",
    "    :param filepath: The location of the file to read\n",
    "    :return: returns the pandas dataframe\n",
    "    \"\"\"\n",
    "    return pd.read_csv(filepath, index_col = \"vin\")\n",
    "\n",
    "\n",
    "\n",
    "df = pd.concat(map(read_car_data, file_names))\n",
    "data_original_length : int = len(df.index)"
   ]
  },
  {
   "cell_type": "markdown",
   "id": "42d5ccd2",
   "metadata": {},
   "source": [
    "# 3. Explore the data\n",
    "\n",
    "The data will now be inspected to explore what attributes are available to use. Additionally, with this output, attributes with large proportion of NAs can be identified and removed."
   ]
  },
  {
   "cell_type": "code",
   "execution_count": 208,
   "id": "5eb85c98",
   "metadata": {
    "scrolled": true
   },
   "outputs": [
    {
     "name": "stdout",
     "output_type": "stream",
     "text": [
      "<class 'pandas.core.frame.DataFrame'>\n",
      "Index: 25942 entries, 5NMS3CAD6LH250298 to 19UUB2F63JA006679\n",
      "Data columns (total 65 columns):\n",
      " #   Column                   Non-Null Count  Dtype  \n",
      "---  ------                   --------------  -----  \n",
      " 0   back_legroom             24540 non-null  object \n",
      " 1   bed                      237 non-null    object \n",
      " 2   bed_height               1676 non-null   object \n",
      " 3   bed_length               1676 non-null   object \n",
      " 4   body_type                25820 non-null  object \n",
      " 5   cabin                    276 non-null    object \n",
      " 6   city                     25942 non-null  object \n",
      " 7   city_fuel_economy        22037 non-null  float64\n",
      " 8   combine_fuel_economy     0 non-null      float64\n",
      " 9   daysonmarket             25942 non-null  int64  \n",
      " 10  dealer_zip               25942 non-null  int64  \n",
      " 11  description              25432 non-null  object \n",
      " 12  engine_cylinders         25179 non-null  object \n",
      " 13  engine_displacement      24418 non-null  float64\n",
      " 14  engine_type              25179 non-null  object \n",
      " 15  exterior_color           25942 non-null  object \n",
      " 16  fleet                    16179 non-null  object \n",
      " 17  frame_damaged            16179 non-null  object \n",
      " 18  franchise_dealer         25942 non-null  bool   \n",
      " 19  franchise_make           18268 non-null  object \n",
      " 20  front_legroom            24540 non-null  object \n",
      " 21  fuel_tank_volume         24540 non-null  object \n",
      " 22  fuel_type                25271 non-null  object \n",
      " 23  has_accidents            16179 non-null  object \n",
      " 24  height                   24540 non-null  object \n",
      " 25  highway_fuel_economy     22037 non-null  float64\n",
      " 26  horsepower               24418 non-null  float64\n",
      " 27  interior_color           25942 non-null  object \n",
      " 28  isCab                    16179 non-null  object \n",
      " 29  is_certified             0 non-null      float64\n",
      " 30  is_cpo                   2207 non-null   object \n",
      " 31  is_new                   25942 non-null  bool   \n",
      " 32  is_oemcpo                1773 non-null   object \n",
      " 33  latitude                 25942 non-null  float64\n",
      " 34  length                   24540 non-null  object \n",
      " 35  listed_date              25942 non-null  object \n",
      " 36  listing_color            25942 non-null  object \n",
      " 37  listing_id               25942 non-null  int64  \n",
      " 38  longitude                25942 non-null  float64\n",
      " 39  main_picture_url         22132 non-null  object \n",
      " 40  major_options            24366 non-null  object \n",
      " 41  make_name                25942 non-null  object \n",
      " 42  maximum_seating          24540 non-null  object \n",
      " 43  mileage                  25114 non-null  float64\n",
      " 44  model_name               25942 non-null  object \n",
      " 45  owner_count              15244 non-null  float64\n",
      " 46  power                    22006 non-null  object \n",
      " 47  price                    25942 non-null  float64\n",
      " 48  salvage                  16179 non-null  object \n",
      " 49  savings_amount           25942 non-null  int64  \n",
      " 50  seller_rating            25698 non-null  float64\n",
      " 51  sp_id                    25942 non-null  int64  \n",
      " 52  sp_name                  25942 non-null  object \n",
      " 53  theft_title              16179 non-null  object \n",
      " 54  torque                   21696 non-null  object \n",
      " 55  transmission             25676 non-null  object \n",
      " 56  transmission_display     25676 non-null  object \n",
      " 57  trimId                   24831 non-null  object \n",
      " 58  trim_name                24824 non-null  object \n",
      " 59  vehicle_damage_category  0 non-null      float64\n",
      " 60  wheel_system             24610 non-null  object \n",
      " 61  wheel_system_display     24610 non-null  object \n",
      " 62  wheelbase                24540 non-null  object \n",
      " 63  width                    24540 non-null  object \n",
      " 64  year                     25942 non-null  int64  \n",
      "dtypes: bool(2), float64(13), int64(6), object(44)\n",
      "memory usage: 12.7+ MB\n"
     ]
    }
   ],
   "source": [
    "df.info()"
   ]
  },
  {
   "cell_type": "markdown",
   "id": "afdb5e2c",
   "metadata": {},
   "source": [
    "Let's explore all the numerical attributes with an actual numerical meaning.(index or listing_id has no meaning numerically). Additionally, all attributes from above which have 0 or approximately 0 non-null values will be dropped"
   ]
  },
  {
   "cell_type": "code",
   "execution_count": null,
   "id": "8e046d19",
   "metadata": {},
   "outputs": [],
   "source": [
    "df = df.drop(columns=[\"dealer_zip\", \"listing_id\", \"cabin\", \"combine_fuel_economy\", \"is_certified\", \"is_cpo\", \"bed_height\",\n",
    "                     \"bed_length\", \"is_oemcpo\", \"vehicle_damage_category\"])"
   ]
  },
  {
   "cell_type": "code",
   "execution_count": 212,
   "id": "5f2cf610",
   "metadata": {},
   "outputs": [
    {
     "data": {
      "image/png": "[encoded data removed]",
      "text/plain": [
       "<Figure size 1152x1440 with 16 Axes>"
      ]
     },
     "metadata": {
      "needs_background": "light"
     },
     "output_type": "display_data"
    }
   ],
   "source": [
    "import matplotlib.pyplot as mpl\n",
    "%matplotlib inline\n",
    "\n",
    "df_numerical = df.select_dtypes(include=[np.int64, np.float64])\n",
    "df_numerical.hist(figsize=(16,20), bins=30)\n",
    "mpl.show()"
   ]
  },
  {
   "cell_type": "markdown",
   "id": "d778a9db",
   "metadata": {},
   "source": [
    "Observations:\n"
   ]
  },
  {
   "cell_type": "markdown",
   "id": "f030f794",
   "metadata": {},
   "source": [
    "# 4. Prepare the data"
   ]
  },
  {
   "cell_type": "markdown",
   "id": "746131ba",
   "metadata": {},
   "source": [
    "Inspecting this list and using our contextual knowledge of cars, as well as the info available on the [kaggle page](https://www.kaggle.com/datasets/ananaymital/us-used-cars-dataset). Certain attributes can be removed immediately, leaving ones that are believed to influence the price. Any attributes left will be further inspected before any models are used. The attributes left are given in a list below (including vin which acts as index). \n",
    "\n",
    "Note: data types are now defined to make sure any further exploration is done correctly."
   ]
  },
  {
   "cell_type": "code",
   "execution_count": 169,
   "id": "178102a1",
   "metadata": {},
   "outputs": [],
   "source": [
    "# Attributes belived to influence price\n",
    "desired_attributes : list = [\"body_type\", \"city\", \"daysonmarket\", \"dealer_zip\", \"engine_cylinders\", \"engine_displacement\",\n",
    "                             \"engine_type\", \"fleet\", \"frame_damaged\", \"franchise_dealer\", \"fuel_tank_volume\", \"has_accidents\", \"horsepower\",\n",
    "                             \"is_cpo\", \"is_new\", \"is_oemcpo\", \"listed_date\", \"make_name\", \"owner_count\", \"power\", \"price\",\n",
    "                             \"savings_amount\", \"seller_rating\", \"year\", \"torque\"\n",
    "                            ]\n",
    "    \n",
    "# Define datatypes of attributes to make sure any exploration is good.\n",
    "data_types = {'vin' : str, 'back_legroom' : str, 'bed' : str, 'bed_height' : str,\n",
    "              'bed_length' : str, 'body_type' : str, 'cabin' : str, 'city' : str,\n",
    "              'city_fuel_economy' : np.float64, 'combine_fuel_economy' : np.float64,\n",
    "              'daysonmarket' : np.int32, 'dealer_zip' : np.int32, 'description' : str, \n",
    "              'engine_cylinders' : str, 'engine_displacement' : np.float64,\n",
    "              'engine_type' : str, 'exterior_color' : str, 'fleet' : bool, 'frame_damaged' : bool,\n",
    "              'franchise_dealer' : bool, 'franchise_make' : str, 'front_legroom' : str,\n",
    "              'fuel_tank_volume' : str, 'fuel_type' : str, 'has_accidents' : bool, 'height' : str,\n",
    "            'highway_fuel_economy' : np.float64, 'horsepower' : np.float64, 'interior_color' : str, 'isCab' : bool,\n",
    "            'is_certified' : bool, 'is_cpo' : bool, 'is_new' : bool, 'is_oemcpo' : bool, 'latitude' : np.float64, 'length' : str,\n",
    "            'listed_date' : str, 'listing_color' : str, 'listing_id' : np.int32, 'longitude' : np.float64,\n",
    "            'main_picture_url' : str, 'major_options' : str, 'make_name' : str, 'maximum_seating' : np.int32,\n",
    "            'mileage' : np.int32, 'model_name' : str, 'owner_count' : np.int32, 'power' : str, 'price' : np.float64, 'salvage' : bool,\n",
    "            'savings_amount' : np.int32 , 'seller_rating' : np.float64, 'sp_id' : np.int32, 'sp_name' : str, 'theft_title' : bool,\n",
    "            'torque' : str, 'transmission' : str, 'transmission_display' : str, 'trimId' : np.int32, 'trim_name' : str,\n",
    "            'vehicle_damage_category' : str, 'wheel_system' : str, 'wheel_system_display' : str,\n",
    "            'wheelbase' : str, 'width' : str, 'year' : np.int32}\n",
    "\n",
    "    \n",
    "df1 = df[df.columns.intersection(desired_attributes)].convert_dtypes(data_types)"
   ]
  },
  {
   "cell_type": "markdown",
   "id": "ba72859e",
   "metadata": {},
   "source": [
    "Next to check if the attributes chosen have NAs. Any attributes with entries that contain an NA will be shown below."
   ]
  },
  {
   "cell_type": "code",
   "execution_count": 198,
   "id": "ebf292ae",
   "metadata": {},
   "outputs": [
    {
     "data": {
      "text/plain": [
       "Index(['city', 'daysonmarket', 'dealer_zip', 'franchise_dealer', 'is_new',\n",
       "       'listed_date', 'make_name', 'price', 'savings_amount', 'year'],\n",
       "      dtype='object')"
      ]
     },
     "execution_count": 198,
     "metadata": {},
     "output_type": "execute_result"
    }
   ],
   "source": [
    "df1.keys()[df1.count() == len(df1.index)]"
   ]
  },
  {
   "cell_type": "markdown",
   "id": "0ddac4a7",
   "metadata": {},
   "source": [
    "Clearly there is issues with some attributes. Let's first inspect the numerical attributes with NA issues."
   ]
  },
  {
   "cell_type": "code",
   "execution_count": 193,
   "id": "4b7d0aa3",
   "metadata": {},
   "outputs": [
    {
     "data": {
      "text/plain": [
       "daysonmarket           False\n",
       "dealer_zip             False\n",
       "engine_displacement     True\n",
       "horsepower              True\n",
       "owner_count             True\n",
       "price                  False\n",
       "savings_amount         False\n",
       "year                   False\n",
       "dtype: bool"
      ]
     },
     "execution_count": 193,
     "metadata": {},
     "output_type": "execute_result"
    }
   ],
   "source": [
    "df1[df1.select_dtypes(include=np.int64).isnull().any(axis=1)].select_dtypes(include=np.int64).isnull().any()"
   ]
  },
  {
   "cell_type": "code",
   "execution_count": 188,
   "id": "086d20f5",
   "metadata": {
    "scrolled": true
   },
   "outputs": [
    {
     "data": {
      "text/html": [
       "<div>\n",
       "<style scoped>\n",
       "    .dataframe tbody tr th:only-of-type {\n",
       "        vertical-align: middle;\n",
       "    }\n",
       "\n",
       "    .dataframe tbody tr th {\n",
       "        vertical-align: top;\n",
       "    }\n",
       "\n",
       "    .dataframe thead th {\n",
       "        text-align: right;\n",
       "    }\n",
       "</style>\n",
       "<table border=\"1\" class=\"dataframe\">\n",
       "  <thead>\n",
       "    <tr style=\"text-align: right;\">\n",
       "      <th></th>\n",
       "      <th>body_type</th>\n",
       "      <th>city</th>\n",
       "      <th>daysonmarket</th>\n",
       "      <th>dealer_zip</th>\n",
       "      <th>engine_cylinders</th>\n",
       "      <th>engine_type</th>\n",
       "      <th>franchise_dealer</th>\n",
       "      <th>is_new</th>\n",
       "      <th>listed_date</th>\n",
       "      <th>make_name</th>\n",
       "      <th>price</th>\n",
       "      <th>savings_amount</th>\n",
       "      <th>seller_rating</th>\n",
       "      <th>year</th>\n",
       "    </tr>\n",
       "    <tr>\n",
       "      <th>vin</th>\n",
       "      <th></th>\n",
       "      <th></th>\n",
       "      <th></th>\n",
       "      <th></th>\n",
       "      <th></th>\n",
       "      <th></th>\n",
       "      <th></th>\n",
       "      <th></th>\n",
       "      <th></th>\n",
       "      <th></th>\n",
       "      <th></th>\n",
       "      <th></th>\n",
       "      <th></th>\n",
       "      <th></th>\n",
       "    </tr>\n",
       "  </thead>\n",
       "  <tbody>\n",
       "    <tr>\n",
       "      <th>5NMS3CAD6LH250298</th>\n",
       "      <td>SUV / Crossover</td>\n",
       "      <td>Stamford</td>\n",
       "      <td>31</td>\n",
       "      <td>6902</td>\n",
       "      <td>I4</td>\n",
       "      <td>I4</td>\n",
       "      <td>True</td>\n",
       "      <td>True</td>\n",
       "      <td>2020-08-09</td>\n",
       "      <td>Hyundai</td>\n",
       "      <td>36650</td>\n",
       "      <td>0</td>\n",
       "      <td>4.258065</td>\n",
       "      <td>2020</td>\n",
       "    </tr>\n",
       "    <tr>\n",
       "      <th>1C4SDJCTXLC130802</th>\n",
       "      <td>SUV / Crossover</td>\n",
       "      <td>Bronx</td>\n",
       "      <td>48</td>\n",
       "      <td>10466</td>\n",
       "      <td>V8</td>\n",
       "      <td>V8</td>\n",
       "      <td>False</td>\n",
       "      <td>False</td>\n",
       "      <td>2020-07-23</td>\n",
       "      <td>Dodge</td>\n",
       "      <td>33950</td>\n",
       "      <td>6136</td>\n",
       "      <td>3.419753</td>\n",
       "      <td>2020</td>\n",
       "    </tr>\n",
       "    <tr>\n",
       "      <th>3FA6P0HD1LR222392</th>\n",
       "      <td>Sedan</td>\n",
       "      <td>Detroit</td>\n",
       "      <td>67</td>\n",
       "      <td>48207</td>\n",
       "      <td>I4</td>\n",
       "      <td>I4</td>\n",
       "      <td>True</td>\n",
       "      <td>True</td>\n",
       "      <td>2020-07-04</td>\n",
       "      <td>Ford</td>\n",
       "      <td>24692</td>\n",
       "      <td>0</td>\n",
       "      <td>4.5</td>\n",
       "      <td>2020</td>\n",
       "    </tr>\n",
       "    <tr>\n",
       "      <th>1C4RJFBG5KC677404</th>\n",
       "      <td>SUV / Crossover</td>\n",
       "      <td>Robbinsville</td>\n",
       "      <td>180</td>\n",
       "      <td>8691</td>\n",
       "      <td>V6</td>\n",
       "      <td>V6</td>\n",
       "      <td>True</td>\n",
       "      <td>False</td>\n",
       "      <td>2020-03-13</td>\n",
       "      <td>Jeep</td>\n",
       "      <td>34995</td>\n",
       "      <td>221</td>\n",
       "      <td>2.578947</td>\n",
       "      <td>2019</td>\n",
       "    </tr>\n",
       "    <tr>\n",
       "      <th>5NMS3CAD5LH248980</th>\n",
       "      <td>SUV / Crossover</td>\n",
       "      <td>Stamford</td>\n",
       "      <td>31</td>\n",
       "      <td>6902</td>\n",
       "      <td>I4</td>\n",
       "      <td>I4</td>\n",
       "      <td>True</td>\n",
       "      <td>True</td>\n",
       "      <td>2020-08-09</td>\n",
       "      <td>Hyundai</td>\n",
       "      <td>36650</td>\n",
       "      <td>0</td>\n",
       "      <td>4.258065</td>\n",
       "      <td>2020</td>\n",
       "    </tr>\n",
       "    <tr>\n",
       "      <th>...</th>\n",
       "      <td>...</td>\n",
       "      <td>...</td>\n",
       "      <td>...</td>\n",
       "      <td>...</td>\n",
       "      <td>...</td>\n",
       "      <td>...</td>\n",
       "      <td>...</td>\n",
       "      <td>...</td>\n",
       "      <td>...</td>\n",
       "      <td>...</td>\n",
       "      <td>...</td>\n",
       "      <td>...</td>\n",
       "      <td>...</td>\n",
       "      <td>...</td>\n",
       "    </tr>\n",
       "    <tr>\n",
       "      <th>4S3GTAB67L3731363</th>\n",
       "      <td>Hatchback</td>\n",
       "      <td>Acton</td>\n",
       "      <td>19</td>\n",
       "      <td>1720</td>\n",
       "      <td>H4</td>\n",
       "      <td>H4</td>\n",
       "      <td>True</td>\n",
       "      <td>True</td>\n",
       "      <td>2020-08-21</td>\n",
       "      <td>Subaru</td>\n",
       "      <td>20061</td>\n",
       "      <td>0</td>\n",
       "      <td>4.5</td>\n",
       "      <td>2020</td>\n",
       "    </tr>\n",
       "    <tr>\n",
       "      <th>WBA6D6C53JG388758</th>\n",
       "      <td>Sedan</td>\n",
       "      <td>Avenel</td>\n",
       "      <td>290</td>\n",
       "      <td>7001</td>\n",
       "      <td>V8</td>\n",
       "      <td>V8</td>\n",
       "      <td>False</td>\n",
       "      <td>False</td>\n",
       "      <td>2019-11-24</td>\n",
       "      <td>BMW</td>\n",
       "      <td>49981</td>\n",
       "      <td>8596</td>\n",
       "      <td>3.386667</td>\n",
       "      <td>2018</td>\n",
       "    </tr>\n",
       "    <tr>\n",
       "      <th>MAJ6S3KL2LC333774</th>\n",
       "      <td>SUV / Crossover</td>\n",
       "      <td>Clifton</td>\n",
       "      <td>200</td>\n",
       "      <td>7013</td>\n",
       "      <td>I4</td>\n",
       "      <td>I4</td>\n",
       "      <td>True</td>\n",
       "      <td>True</td>\n",
       "      <td>2020-02-22</td>\n",
       "      <td>Ford</td>\n",
       "      <td>28429</td>\n",
       "      <td>0</td>\n",
       "      <td>3.166667</td>\n",
       "      <td>2020</td>\n",
       "    </tr>\n",
       "    <tr>\n",
       "      <th>1HGCR2F37GA105821</th>\n",
       "      <td>Sedan</td>\n",
       "      <td>Elizabeth</td>\n",
       "      <td>315</td>\n",
       "      <td>7202</td>\n",
       "      <td>I4</td>\n",
       "      <td>I4</td>\n",
       "      <td>False</td>\n",
       "      <td>False</td>\n",
       "      <td>2019-10-30</td>\n",
       "      <td>Honda</td>\n",
       "      <td>11900</td>\n",
       "      <td>3605</td>\n",
       "      <td>3.333333</td>\n",
       "      <td>2016</td>\n",
       "    </tr>\n",
       "    <tr>\n",
       "      <th>19UUB2F63JA006679</th>\n",
       "      <td>Sedan</td>\n",
       "      <td>Avenel</td>\n",
       "      <td>4</td>\n",
       "      <td>7001</td>\n",
       "      <td>V6</td>\n",
       "      <td>V6</td>\n",
       "      <td>False</td>\n",
       "      <td>False</td>\n",
       "      <td>2020-09-05</td>\n",
       "      <td>Acura</td>\n",
       "      <td>27781</td>\n",
       "      <td>158</td>\n",
       "      <td>3.386667</td>\n",
       "      <td>2018</td>\n",
       "    </tr>\n",
       "  </tbody>\n",
       "</table>\n",
       "<p>25942 rows × 14 columns</p>\n",
       "</div>"
      ],
      "text/plain": [
       "                         body_type          city  daysonmarket  dealer_zip  \\\n",
       "vin                                                                          \n",
       "5NMS3CAD6LH250298  SUV / Crossover      Stamford            31        6902   \n",
       "1C4SDJCTXLC130802  SUV / Crossover         Bronx            48       10466   \n",
       "3FA6P0HD1LR222392            Sedan       Detroit            67       48207   \n",
       "1C4RJFBG5KC677404  SUV / Crossover  Robbinsville           180        8691   \n",
       "5NMS3CAD5LH248980  SUV / Crossover      Stamford            31        6902   \n",
       "...                            ...           ...           ...         ...   \n",
       "4S3GTAB67L3731363        Hatchback         Acton            19        1720   \n",
       "WBA6D6C53JG388758            Sedan        Avenel           290        7001   \n",
       "MAJ6S3KL2LC333774  SUV / Crossover       Clifton           200        7013   \n",
       "1HGCR2F37GA105821            Sedan     Elizabeth           315        7202   \n",
       "19UUB2F63JA006679            Sedan        Avenel             4        7001   \n",
       "\n",
       "                  engine_cylinders engine_type  franchise_dealer  is_new  \\\n",
       "vin                                                                        \n",
       "5NMS3CAD6LH250298               I4          I4              True    True   \n",
       "1C4SDJCTXLC130802               V8          V8             False   False   \n",
       "3FA6P0HD1LR222392               I4          I4              True    True   \n",
       "1C4RJFBG5KC677404               V6          V6              True   False   \n",
       "5NMS3CAD5LH248980               I4          I4              True    True   \n",
       "...                            ...         ...               ...     ...   \n",
       "4S3GTAB67L3731363               H4          H4              True    True   \n",
       "WBA6D6C53JG388758               V8          V8             False   False   \n",
       "MAJ6S3KL2LC333774               I4          I4              True    True   \n",
       "1HGCR2F37GA105821               I4          I4             False   False   \n",
       "19UUB2F63JA006679               V6          V6             False   False   \n",
       "\n",
       "                  listed_date make_name  price  savings_amount  seller_rating  \\\n",
       "vin                                                                             \n",
       "5NMS3CAD6LH250298  2020-08-09   Hyundai  36650               0       4.258065   \n",
       "1C4SDJCTXLC130802  2020-07-23     Dodge  33950            6136       3.419753   \n",
       "3FA6P0HD1LR222392  2020-07-04      Ford  24692               0            4.5   \n",
       "1C4RJFBG5KC677404  2020-03-13      Jeep  34995             221       2.578947   \n",
       "5NMS3CAD5LH248980  2020-08-09   Hyundai  36650               0       4.258065   \n",
       "...                       ...       ...    ...             ...            ...   \n",
       "4S3GTAB67L3731363  2020-08-21    Subaru  20061               0            4.5   \n",
       "WBA6D6C53JG388758  2019-11-24       BMW  49981            8596       3.386667   \n",
       "MAJ6S3KL2LC333774  2020-02-22      Ford  28429               0       3.166667   \n",
       "1HGCR2F37GA105821  2019-10-30     Honda  11900            3605       3.333333   \n",
       "19UUB2F63JA006679  2020-09-05     Acura  27781             158       3.386667   \n",
       "\n",
       "                   year  \n",
       "vin                      \n",
       "5NMS3CAD6LH250298  2020  \n",
       "1C4SDJCTXLC130802  2020  \n",
       "3FA6P0HD1LR222392  2020  \n",
       "1C4RJFBG5KC677404  2019  \n",
       "5NMS3CAD5LH248980  2020  \n",
       "...                 ...  \n",
       "4S3GTAB67L3731363  2020  \n",
       "WBA6D6C53JG388758  2018  \n",
       "MAJ6S3KL2LC333774  2020  \n",
       "1HGCR2F37GA105821  2016  \n",
       "19UUB2F63JA006679  2018  \n",
       "\n",
       "[25942 rows x 14 columns]"
      ]
     },
     "execution_count": 188,
     "metadata": {},
     "output_type": "execute_result"
    }
   ],
   "source": [
    "df1.loc[:, (df1.count() / len(df1.index)) > 0.95]"
   ]
  },
  {
   "cell_type": "markdown",
   "id": "322f01d5",
   "metadata": {},
   "source": [
    "As most a large amount of the attributes are categorical or boolean, changing the remaining NAs to the average of the column would not make much sense. Furthermore, since the dataset is very large, removing NAs is unlikely to heavily impact the model. However to make sure the one type of car or manufactor is not being discrimanted against before they're removed the entries with NAs will be inspected."
   ]
  },
  {
   "cell_type": "code",
   "execution_count": 154,
   "id": "097501ea",
   "metadata": {},
   "outputs": [
    {
     "data": {
      "text/plain": [
       "True"
      ]
     },
     "execution_count": 154,
     "metadata": {},
     "output_type": "execute_result"
    }
   ],
   "source": [
    "car_makes_with_NA = df1[df1.isnull().any(axis=1)].make_name.unique()\n",
    "df_prepared = df1[~df1.isnull().any(axis=1)]\n",
    "car_makes_no_NA = df_prepared.make_name.unique()\n",
    "\n",
    "(set(car_makes_no_NA) and set(car_makes_with_NA)) == set(car_makes_with_NA)"
   ]
  },
  {
   "cell_type": "markdown",
   "id": "b408d079",
   "metadata": {},
   "source": [
    "This means all car makes are being represented still even when NA rows are removed.\n",
    "\n",
    "Now the data has been filtered, the exploration of relationships can begin. Note that only 4% of the entries have been removed."
   ]
  },
  {
   "cell_type": "code",
   "execution_count": 155,
   "id": "7eae3369",
   "metadata": {},
   "outputs": [
    {
     "data": {
      "text/plain": [
       "0.96"
      ]
     },
     "execution_count": 155,
     "metadata": {},
     "output_type": "execute_result"
    }
   ],
   "source": [
    "round(len(df_prepared.index) / data_original_length, 2)"
   ]
  },
  {
   "cell_type": "code",
   "execution_count": 156,
   "id": "a670ccd7",
   "metadata": {},
   "outputs": [
    {
     "data": {
      "text/plain": [
       "vin\n",
       "5NMS3CAD6LH250298    36650\n",
       "1C4SDJCTXLC130802    33950\n",
       "3FA6P0HD1LR222392    24692\n",
       "1C4RJFBG5KC677404    34995\n",
       "5NMS3CAD5LH248980    36650\n",
       "Name: price, dtype: Int64"
      ]
     },
     "execution_count": 156,
     "metadata": {},
     "output_type": "execute_result"
    }
   ],
   "source": [
    "used_cars_prices = df_prepared[\"price\"].copy()\n",
    "used_cars_prices.head()"
   ]
  },
  {
   "cell_type": "code",
   "execution_count": 157,
   "id": "dcd17e51",
   "metadata": {},
   "outputs": [],
   "source": [
    "from sklearn.preprocessing import OrdinalEncoder\n",
    "\n",
    "ordinal_encoder = OrdinalEncoder()\n"
   ]
  },
  {
   "cell_type": "code",
   "execution_count": null,
   "id": "86a62373",
   "metadata": {},
   "outputs": [],
   "source": []
  }
 ],
 "metadata": {
  "kernelspec": {
   "display_name": "Python 3 (ipykernel)",
   "language": "python",
   "name": "python3"
  },
  "language_info": {
   "codemirror_mode": {
    "name": "ipython",
    "version": 3
   },
   "file_extension": ".py",
   "mimetype": "text/x-python",
   "name": "python",
   "nbconvert_exporter": "python",
   "pygments_lexer": "ipython3",
   "version": "3.9.12"
  }
 },
 "nbformat": 4,
 "nbformat_minor": 5
}
