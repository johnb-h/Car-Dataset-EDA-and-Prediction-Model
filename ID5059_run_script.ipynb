{
 "cells": [
  {
   "cell_type": "markdown",
   "id": "982cce07",
   "metadata": {},
   "source": [
    "# ID 5059 Coursework 1\n",
    "John Belcher-Heath"
   ]
  },
  {
   "cell_type": "code",
   "execution_count": 14,
   "id": "288c4cca",
   "metadata": {},
   "outputs": [],
   "source": [
    "# Import libraries\n",
    "import dask.dataframe as dd\n",
    "import pandas as pd\n",
    "import numpy\n",
    "import matplotlib.pyplot\n",
    "import sklearn\n",
    "import os\n",
    "from pathlib import Path\n",
    "\n",
    "# Import all the data\n",
    "dask_activate: bool = False\n",
    "    \n",
    "if dask_activate:\n",
    "    read_data = dd.read_csv\n",
    "else:\n",
    "    read_data = pd.read_csv"
   ]
  },
  {
   "cell_type": "code",
   "execution_count": 17,
   "id": "cd73a215",
   "metadata": {},
   "outputs": [],
   "source": [
    "folder_path: str = Path(\"C:\\\\Users\\\\johnb\\\\Documents\\\\git\\\\ID5059\\\\coursework_1\\\\used_cars_data_small\")\n",
    "    \n",
    "if not os.path.exists(folder_path):\n",
    "    raise FileNotFoundError"
   ]
  },
  {
   "cell_type": "code",
   "execution_count": null,
   "id": "0f92be4d",
   "metadata": {},
   "outputs": [],
   "source": []
  }
 ],
 "metadata": {
  "kernelspec": {
   "display_name": "Python 3 (ipykernel)",
   "language": "python",
   "name": "python3"
  },
  "language_info": {
   "codemirror_mode": {
    "name": "ipython",
    "version": 3
   },
   "file_extension": ".py",
   "mimetype": "text/x-python",
   "name": "python",
   "nbconvert_exporter": "python",
   "pygments_lexer": "ipython3",
   "version": "3.10.9"
  }
 },
 "nbformat": 4,
 "nbformat_minor": 5
}
